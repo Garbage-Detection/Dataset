{
 "cells": [
  {
   "cell_type": "code",
   "execution_count": null,
   "metadata": {
    "id": "_GdaIEeqX-eb"
   },
   "outputs": [],
   "source": [
    "# Importing the Keras libraries and packages\n",
    "import os\n",
    "import numpy as np\n",
    "from keras.models import Sequential\n",
    "from keras.layers import Conv2D\n",
    "from keras.layers import MaxPooling2D\n",
    "from keras.layers import Flatten\n",
    "from keras.layers import Dense\n",
    "from keras.layers import Dropout\n",
    "from keras.preprocessing.image import ImageDataGenerator"
   ]
  },
  {
   "cell_type": "code",
   "execution_count": null,
   "metadata": {
    "colab": {
     "base_uri": "https://localhost:8080/"
    },
    "id": "Wi8PDMcrgfIM",
    "outputId": "c2644aa6-9869-41e5-aa4f-daa5f183a55b"
   },
   "outputs": [
    {
     "name": "stdout",
     "output_type": "stream",
     "text": [
      "--2021-05-03 04:22:53--  https://storage.googleapis.com/mledu-datasets/cats_and_dogs_filtered.zip\n",
      "Resolving storage.googleapis.com (storage.googleapis.com)... 74.125.142.128, 74.125.199.128, 173.194.202.128, ...\n",
      "Connecting to storage.googleapis.com (storage.googleapis.com)|74.125.142.128|:443... connected.\n",
      "HTTP request sent, awaiting response... 200 OK\n",
      "Length: 68606236 (65M) [application/zip]\n",
      "Saving to: ‘/tmp/cats_and_dogs_filtered.zip’\n",
      "\n",
      "/tmp/cats_and_dogs_ 100%[===================>]  65.43M   124MB/s    in 0.5s    \n",
      "\n",
      "2021-05-03 04:22:54 (124 MB/s) - ‘/tmp/cats_and_dogs_filtered.zip’ saved [68606236/68606236]\n",
      "\n"
     ]
    }
   ],
   "source": [
    "!wget --no-check-certificate \\\n",
    "    https://storage.googleapis.com/mledu-datasets/cats_and_dogs_filtered.zip \\\n",
    "    -O /tmp/cats_and_dogs_filtered.zip"
   ]
  },
  {
   "cell_type": "code",
   "execution_count": null,
   "metadata": {
    "id": "VWeg-V8eg4U6"
   },
   "outputs": [],
   "source": [
    "import zipfile\n",
    "\n",
    "local_zip = '/tmp/cats_and_dogs_filtered.zip'\n",
    "zip_ref = zipfile.ZipFile(local_zip, 'r')\n",
    "zip_ref.extractall('/tmp')\n",
    "zip_ref.close()"
   ]
  },
  {
   "cell_type": "markdown",
   "metadata": {
    "id": "Y892ZTSeZfYU"
   },
   "source": [
    "# Data Loading"
   ]
  },
  {
   "cell_type": "code",
   "execution_count": null,
   "metadata": {
    "id": "XtKJdhG-YTHt"
   },
   "outputs": [],
   "source": [
    "base_dir = '/tmp/cats_and_dogs_filtered'\n",
    "train_dir = os.path.join(base_dir, 'train')\n",
    "validation_dir = os.path.join(base_dir, 'validation')"
   ]
  },
  {
   "cell_type": "code",
   "execution_count": null,
   "metadata": {
    "id": "1fJj89oLYbOm"
   },
   "outputs": [],
   "source": [
    "train_cats_dir = os.path.join(train_dir, 'cats')  # directory with our training cat pictures\n",
    "train_dogs_dir = os.path.join(train_dir, 'dogs')  # directory with our training dog pictures\n",
    "validation_cats_dir = os.path.join(validation_dir, 'cats')  # directory with our validation cat pictures\n",
    "validation_dogs_dir = os.path.join(validation_dir, 'dogs')  # directory with our validation dog pictures"
   ]
  },
  {
   "cell_type": "code",
   "execution_count": null,
   "metadata": {
    "id": "REwcrvt4YuXB"
   },
   "outputs": [],
   "source": [
    "num_cats_tr = len(os.listdir(train_cats_dir))\n",
    "num_dogs_tr = len(os.listdir(train_dogs_dir))\n",
    "\n",
    "num_cats_val = len(os.listdir(validation_cats_dir))\n",
    "num_dogs_val = len(os.listdir(validation_dogs_dir))\n",
    "\n",
    "total_train = num_cats_tr + num_dogs_tr\n",
    "total_val = num_cats_val + num_dogs_val"
   ]
  },
  {
   "cell_type": "markdown",
   "metadata": {
    "id": "j3IZXUTBaFQw"
   },
   "source": [
    "# Setting Model Parameters"
   ]
  },
  {
   "cell_type": "code",
   "execution_count": null,
   "metadata": {
    "id": "JIekemjuYzGg"
   },
   "outputs": [],
   "source": [
    "BATCH_SIZE = 100  # Number of training examples to process before updating our models variables\n",
    "IMG_SHAPE  = 150  # Our training data consists of images with width of 150 pixels and height of 150 pixels"
   ]
  },
  {
   "cell_type": "markdown",
   "metadata": {
    "id": "7CN0lz1saThw"
   },
   "source": [
    "# Model Creation"
   ]
  },
  {
   "cell_type": "code",
   "execution_count": null,
   "metadata": {
    "id": "g0gdblx7aOth"
   },
   "outputs": [],
   "source": [
    "# Initialising the CNN\n",
    "classifier = Sequential()"
   ]
  },
  {
   "cell_type": "code",
   "execution_count": null,
   "metadata": {
    "id": "V37Scy5DaaDe"
   },
   "outputs": [],
   "source": [
    "# Step 1 - Convolution\n",
    "classifier.add(Conv2D(32, (3, 3), input_shape = (150, 150, 3), activation = 'relu'))"
   ]
  },
  {
   "cell_type": "code",
   "execution_count": null,
   "metadata": {
    "id": "pP2LP_zqaehO"
   },
   "outputs": [],
   "source": [
    "# Step 2 - Pooling\n",
    "classifier.add(MaxPooling2D(2, 2))"
   ]
  },
  {
   "cell_type": "code",
   "execution_count": null,
   "metadata": {
    "id": "lgtise7qamGi"
   },
   "outputs": [],
   "source": [
    "# Step 1 & 2 with more hidden layers\n",
    "classifier.add(Conv2D(64, (3, 3), activation = 'relu'))\n",
    "classifier.add(MaxPooling2D(2,2))\n",
    "\n",
    "classifier.add(Conv2D(128, (3,3), activation='relu'))\n",
    "classifier.add(MaxPooling2D(2,2))\n",
    "\n",
    "classifier.add(Conv2D(128, (3,3), activation='relu'))\n",
    "classifier.add(MaxPooling2D(2,2))"
   ]
  },
  {
   "cell_type": "code",
   "execution_count": null,
   "metadata": {
    "id": "YIMdC9KHasUt"
   },
   "outputs": [],
   "source": [
    "# Step 3 - Dropout\n",
    "classifier.add(Dropout(0.5))"
   ]
  },
  {
   "cell_type": "code",
   "execution_count": null,
   "metadata": {
    "id": "y5R003rka0w4"
   },
   "outputs": [],
   "source": [
    "# Step 4 - Flattening\n",
    "classifier.add(Flatten())"
   ]
  },
  {
   "cell_type": "code",
   "execution_count": null,
   "metadata": {
    "id": "N9z_rQHYa4u4"
   },
   "outputs": [],
   "source": [
    "# Step 5 - Full connection\n",
    "classifier.add(Dense(units = 512, activation = 'relu'))\n",
    "classifier.add(Dense(units = 2, activation = 'softmax'))"
   ]
  },
  {
   "cell_type": "code",
   "execution_count": null,
   "metadata": {
    "id": "UcIokLnSa9Bk"
   },
   "outputs": [],
   "source": [
    "# Compiling the CNN\n",
    "classifier.compile(optimizer = 'adam', loss = 'sparse_categorical_crossentropy', metrics = ['accuracy'])"
   ]
  },
  {
   "cell_type": "code",
   "execution_count": null,
   "metadata": {
    "colab": {
     "base_uri": "https://localhost:8080/"
    },
    "id": "wz90-XJaa-kF",
    "outputId": "1f2f50ca-1f64-469f-cb56-26f41a129b8c"
   },
   "outputs": [
    {
     "name": "stdout",
     "output_type": "stream",
     "text": [
      "Model: \"sequential\"\n",
      "_________________________________________________________________\n",
      "Layer (type)                 Output Shape              Param #   \n",
      "=================================================================\n",
      "conv2d (Conv2D)              (None, 148, 148, 32)      896       \n",
      "_________________________________________________________________\n",
      "max_pooling2d (MaxPooling2D) (None, 74, 74, 32)        0         \n",
      "_________________________________________________________________\n",
      "conv2d_1 (Conv2D)            (None, 72, 72, 64)        18496     \n",
      "_________________________________________________________________\n",
      "max_pooling2d_1 (MaxPooling2 (None, 36, 36, 64)        0         \n",
      "_________________________________________________________________\n",
      "conv2d_2 (Conv2D)            (None, 34, 34, 128)       73856     \n",
      "_________________________________________________________________\n",
      "max_pooling2d_2 (MaxPooling2 (None, 17, 17, 128)       0         \n",
      "_________________________________________________________________\n",
      "conv2d_3 (Conv2D)            (None, 15, 15, 128)       147584    \n",
      "_________________________________________________________________\n",
      "max_pooling2d_3 (MaxPooling2 (None, 7, 7, 128)         0         \n",
      "_________________________________________________________________\n",
      "dropout (Dropout)            (None, 7, 7, 128)         0         \n",
      "_________________________________________________________________\n",
      "flatten (Flatten)            (None, 6272)              0         \n",
      "_________________________________________________________________\n",
      "dense (Dense)                (None, 512)               3211776   \n",
      "_________________________________________________________________\n",
      "dense_1 (Dense)              (None, 2)                 1026      \n",
      "=================================================================\n",
      "Total params: 3,453,634\n",
      "Trainable params: 3,453,634\n",
      "Non-trainable params: 0\n",
      "_________________________________________________________________\n"
     ]
    }
   ],
   "source": [
    "classifier.summary()"
   ]
  },
  {
   "cell_type": "markdown",
   "metadata": {
    "id": "dW6Mi0JDbJYf"
   },
   "source": [
    "# Data Augmentation and Preparation"
   ]
  },
  {
   "cell_type": "code",
   "execution_count": null,
   "metadata": {
    "id": "yvoLA0hTbIq8"
   },
   "outputs": [],
   "source": [
    "train_datagen = ImageDataGenerator(rescale=1./255,\n",
    "                                   rotation_range=40,\n",
    "                                   width_shift_range=0.2,\n",
    "                                   height_shift_range=0.2,\n",
    "                                   shear_range=0.2,\n",
    "                                   zoom_range=0.2,\n",
    "                                   horizontal_flip=True,\n",
    "                                   fill_mode='nearest')"
   ]
  },
  {
   "cell_type": "code",
   "execution_count": null,
   "metadata": {
    "colab": {
     "base_uri": "https://localhost:8080/"
    },
    "id": "oYDKoUJPbWTg",
    "outputId": "a48153ca-a1fb-4dfb-f5b2-b6c5d6b23e53"
   },
   "outputs": [
    {
     "name": "stdout",
     "output_type": "stream",
     "text": [
      "Found 2000 images belonging to 2 classes.\n"
     ]
    }
   ],
   "source": [
    "training_set = train_datagen.flow_from_directory(batch_size=BATCH_SIZE,\n",
    "                                                 directory=train_dir,\n",
    "                                                 shuffle=True,\n",
    "                                                 target_size=(IMG_SHAPE,IMG_SHAPE),\n",
    "                                                 class_mode='binary')"
   ]
  },
  {
   "cell_type": "code",
   "execution_count": null,
   "metadata": {
    "id": "NCX-QSMubab8"
   },
   "outputs": [],
   "source": [
    "validation_datagen = ImageDataGenerator(rescale = 1./255)"
   ]
  },
  {
   "cell_type": "code",
   "execution_count": null,
   "metadata": {
    "colab": {
     "base_uri": "https://localhost:8080/"
    },
    "id": "E4E_lvDSbdlX",
    "outputId": "33043baa-18f2-43a3-cc0e-77b9bd03f432"
   },
   "outputs": [
    {
     "name": "stdout",
     "output_type": "stream",
     "text": [
      "Found 1000 images belonging to 2 classes.\n"
     ]
    }
   ],
   "source": [
    "validation_set = validation_datagen.flow_from_directory(batch_size=BATCH_SIZE,\n",
    "                                                        directory=validation_dir,\n",
    "                                                        target_size=(IMG_SHAPE, IMG_SHAPE),\n",
    "                                                        class_mode='binary')"
   ]
  },
  {
   "cell_type": "markdown",
   "metadata": {
    "id": "gwkuqwIobivY"
   },
   "source": [
    "# Train the Model"
   ]
  },
  {
   "cell_type": "code",
   "execution_count": null,
   "metadata": {
    "colab": {
     "base_uri": "https://localhost:8080/"
    },
    "id": "DZm3HMq6bhMq",
    "outputId": "313f8013-167c-4972-ee44-9c7b0662c9d5"
   },
   "outputs": [
    {
     "name": "stderr",
     "output_type": "stream",
     "text": [
      "/usr/local/lib/python3.7/dist-packages/tensorflow/python/keras/engine/training.py:1844: UserWarning: `Model.fit_generator` is deprecated and will be removed in a future version. Please use `Model.fit`, which supports generators.\n",
      "  warnings.warn('`Model.fit_generator` is deprecated and '\n"
     ]
    },
    {
     "name": "stdout",
     "output_type": "stream",
     "text": [
      "Epoch 1/100\n",
      "20/20 [==============================] - 46s 770ms/step - loss: 0.8588 - accuracy: 0.5159 - val_loss: 0.6916 - val_accuracy: 0.5030\n",
      "Epoch 2/100\n",
      "20/20 [==============================] - 15s 775ms/step - loss: 0.6914 - accuracy: 0.5294 - val_loss: 0.7130 - val_accuracy: 0.5000\n",
      "Epoch 3/100\n",
      "20/20 [==============================] - 15s 776ms/step - loss: 0.6899 - accuracy: 0.5435 - val_loss: 0.6811 - val_accuracy: 0.5340\n",
      "Epoch 4/100\n",
      "20/20 [==============================] - 15s 772ms/step - loss: 0.6708 - accuracy: 0.5881 - val_loss: 0.6491 - val_accuracy: 0.6320\n",
      "Epoch 5/100\n",
      "20/20 [==============================] - 15s 768ms/step - loss: 0.6550 - accuracy: 0.5981 - val_loss: 0.6416 - val_accuracy: 0.6330\n",
      "Epoch 6/100\n",
      "20/20 [==============================] - 15s 771ms/step - loss: 0.6608 - accuracy: 0.5888 - val_loss: 0.6441 - val_accuracy: 0.6130\n",
      "Epoch 7/100\n",
      "20/20 [==============================] - 15s 767ms/step - loss: 0.6548 - accuracy: 0.5868 - val_loss: 0.6358 - val_accuracy: 0.6150\n",
      "Epoch 8/100\n",
      "20/20 [==============================] - 15s 776ms/step - loss: 0.6487 - accuracy: 0.6081 - val_loss: 0.6114 - val_accuracy: 0.6540\n",
      "Epoch 9/100\n",
      "20/20 [==============================] - 15s 770ms/step - loss: 0.6298 - accuracy: 0.6405 - val_loss: 0.5894 - val_accuracy: 0.6790\n",
      "Epoch 10/100\n",
      "20/20 [==============================] - 15s 773ms/step - loss: 0.6158 - accuracy: 0.6508 - val_loss: 0.5816 - val_accuracy: 0.6850\n",
      "Epoch 11/100\n",
      "20/20 [==============================] - 15s 774ms/step - loss: 0.6067 - accuracy: 0.6625 - val_loss: 0.6014 - val_accuracy: 0.6350\n",
      "Epoch 12/100\n",
      "20/20 [==============================] - 15s 768ms/step - loss: 0.6008 - accuracy: 0.6644 - val_loss: 0.5793 - val_accuracy: 0.6990\n",
      "Epoch 13/100\n",
      "20/20 [==============================] - 15s 774ms/step - loss: 0.5980 - accuracy: 0.6775 - val_loss: 0.5849 - val_accuracy: 0.6890\n",
      "Epoch 14/100\n",
      "20/20 [==============================] - 15s 777ms/step - loss: 0.5823 - accuracy: 0.6879 - val_loss: 0.5628 - val_accuracy: 0.7050\n",
      "Epoch 15/100\n",
      "20/20 [==============================] - 15s 775ms/step - loss: 0.5750 - accuracy: 0.6968 - val_loss: 0.5837 - val_accuracy: 0.6640\n",
      "Epoch 16/100\n",
      "20/20 [==============================] - 15s 770ms/step - loss: 0.5990 - accuracy: 0.6590 - val_loss: 0.5443 - val_accuracy: 0.7210\n",
      "Epoch 17/100\n",
      "20/20 [==============================] - 15s 772ms/step - loss: 0.5831 - accuracy: 0.6927 - val_loss: 0.5387 - val_accuracy: 0.7210\n",
      "Epoch 18/100\n",
      "20/20 [==============================] - 15s 768ms/step - loss: 0.5392 - accuracy: 0.7050 - val_loss: 0.5227 - val_accuracy: 0.7260\n",
      "Epoch 19/100\n",
      "20/20 [==============================] - 15s 773ms/step - loss: 0.5807 - accuracy: 0.6929 - val_loss: 0.5299 - val_accuracy: 0.7190\n",
      "Epoch 20/100\n",
      "20/20 [==============================] - 15s 770ms/step - loss: 0.5619 - accuracy: 0.7132 - val_loss: 0.5542 - val_accuracy: 0.7250\n",
      "Epoch 21/100\n",
      "20/20 [==============================] - 15s 780ms/step - loss: 0.5337 - accuracy: 0.7335 - val_loss: 0.5463 - val_accuracy: 0.7100\n",
      "Epoch 22/100\n",
      "20/20 [==============================] - 15s 778ms/step - loss: 0.5426 - accuracy: 0.7237 - val_loss: 0.5394 - val_accuracy: 0.7230\n",
      "Epoch 23/100\n",
      "20/20 [==============================] - 15s 776ms/step - loss: 0.5373 - accuracy: 0.7401 - val_loss: 0.4972 - val_accuracy: 0.7600\n",
      "Epoch 24/100\n",
      "20/20 [==============================] - 15s 780ms/step - loss: 0.5219 - accuracy: 0.7454 - val_loss: 0.5080 - val_accuracy: 0.7650\n",
      "Epoch 25/100\n",
      "20/20 [==============================] - 15s 771ms/step - loss: 0.5500 - accuracy: 0.7093 - val_loss: 0.4968 - val_accuracy: 0.7540\n",
      "Epoch 26/100\n",
      "20/20 [==============================] - 15s 770ms/step - loss: 0.5139 - accuracy: 0.7489 - val_loss: 0.5272 - val_accuracy: 0.7310\n",
      "Epoch 27/100\n",
      "20/20 [==============================] - 15s 769ms/step - loss: 0.5301 - accuracy: 0.7347 - val_loss: 0.5222 - val_accuracy: 0.7410\n",
      "Epoch 28/100\n",
      "20/20 [==============================] - 15s 773ms/step - loss: 0.5469 - accuracy: 0.7226 - val_loss: 0.5131 - val_accuracy: 0.7470\n",
      "Epoch 29/100\n",
      "20/20 [==============================] - 15s 775ms/step - loss: 0.5377 - accuracy: 0.7346 - val_loss: 0.4882 - val_accuracy: 0.7620\n",
      "Epoch 30/100\n",
      "20/20 [==============================] - 15s 773ms/step - loss: 0.4963 - accuracy: 0.7608 - val_loss: 0.4895 - val_accuracy: 0.7700\n",
      "Epoch 31/100\n",
      "20/20 [==============================] - 15s 768ms/step - loss: 0.4979 - accuracy: 0.7585 - val_loss: 0.5141 - val_accuracy: 0.7400\n",
      "Epoch 32/100\n",
      "20/20 [==============================] - 15s 773ms/step - loss: 0.5092 - accuracy: 0.7592 - val_loss: 0.4806 - val_accuracy: 0.7590\n",
      "Epoch 33/100\n",
      "20/20 [==============================] - 15s 772ms/step - loss: 0.4887 - accuracy: 0.7618 - val_loss: 0.4797 - val_accuracy: 0.7660\n",
      "Epoch 34/100\n",
      "20/20 [==============================] - 15s 779ms/step - loss: 0.4633 - accuracy: 0.7735 - val_loss: 0.4883 - val_accuracy: 0.7660\n",
      "Epoch 35/100\n",
      "20/20 [==============================] - 15s 778ms/step - loss: 0.5002 - accuracy: 0.7485 - val_loss: 0.4928 - val_accuracy: 0.7580\n",
      "Epoch 36/100\n",
      "20/20 [==============================] - 15s 773ms/step - loss: 0.5158 - accuracy: 0.7398 - val_loss: 0.4869 - val_accuracy: 0.7660\n",
      "Epoch 37/100\n",
      "20/20 [==============================] - 15s 769ms/step - loss: 0.4651 - accuracy: 0.7819 - val_loss: 0.4941 - val_accuracy: 0.7540\n",
      "Epoch 38/100\n",
      "20/20 [==============================] - 15s 771ms/step - loss: 0.4821 - accuracy: 0.7589 - val_loss: 0.4581 - val_accuracy: 0.7760\n",
      "Epoch 39/100\n",
      "20/20 [==============================] - 15s 771ms/step - loss: 0.4807 - accuracy: 0.7724 - val_loss: 0.4775 - val_accuracy: 0.7680\n",
      "Epoch 40/100\n",
      "20/20 [==============================] - 15s 777ms/step - loss: 0.4787 - accuracy: 0.7627 - val_loss: 0.4849 - val_accuracy: 0.7640\n",
      "Epoch 41/100\n",
      "20/20 [==============================] - 15s 770ms/step - loss: 0.4840 - accuracy: 0.7534 - val_loss: 0.4547 - val_accuracy: 0.7880\n",
      "Epoch 42/100\n",
      "20/20 [==============================] - 15s 767ms/step - loss: 0.4676 - accuracy: 0.7614 - val_loss: 0.5089 - val_accuracy: 0.7420\n",
      "Epoch 43/100\n",
      "20/20 [==============================] - 15s 769ms/step - loss: 0.4760 - accuracy: 0.7473 - val_loss: 0.4944 - val_accuracy: 0.7760\n",
      "Epoch 44/100\n",
      "20/20 [==============================] - 15s 771ms/step - loss: 0.4801 - accuracy: 0.7707 - val_loss: 0.4719 - val_accuracy: 0.7820\n",
      "Epoch 45/100\n",
      "20/20 [==============================] - 16s 782ms/step - loss: 0.4507 - accuracy: 0.7913 - val_loss: 0.4434 - val_accuracy: 0.7900\n",
      "Epoch 46/100\n",
      "20/20 [==============================] - 16s 783ms/step - loss: 0.4314 - accuracy: 0.8108 - val_loss: 0.4535 - val_accuracy: 0.7860\n",
      "Epoch 47/100\n",
      "20/20 [==============================] - 16s 785ms/step - loss: 0.4285 - accuracy: 0.7981 - val_loss: 0.5023 - val_accuracy: 0.7600\n",
      "Epoch 48/100\n",
      "20/20 [==============================] - 15s 777ms/step - loss: 0.4451 - accuracy: 0.7929 - val_loss: 0.4352 - val_accuracy: 0.7910\n",
      "Epoch 49/100\n",
      "20/20 [==============================] - 16s 788ms/step - loss: 0.4214 - accuracy: 0.8168 - val_loss: 0.4291 - val_accuracy: 0.7920\n",
      "Epoch 50/100\n",
      "20/20 [==============================] - 16s 782ms/step - loss: 0.4222 - accuracy: 0.8019 - val_loss: 0.4409 - val_accuracy: 0.7910\n",
      "Epoch 51/100\n",
      "20/20 [==============================] - 15s 778ms/step - loss: 0.3886 - accuracy: 0.8237 - val_loss: 0.4433 - val_accuracy: 0.7980\n",
      "Epoch 52/100\n",
      "20/20 [==============================] - 15s 770ms/step - loss: 0.4150 - accuracy: 0.8092 - val_loss: 0.4519 - val_accuracy: 0.7820\n",
      "Epoch 53/100\n",
      "20/20 [==============================] - 15s 770ms/step - loss: 0.4375 - accuracy: 0.8019 - val_loss: 0.4884 - val_accuracy: 0.7610\n",
      "Epoch 54/100\n",
      "20/20 [==============================] - 15s 776ms/step - loss: 0.3976 - accuracy: 0.8061 - val_loss: 0.4375 - val_accuracy: 0.7850\n",
      "Epoch 55/100\n",
      "20/20 [==============================] - 15s 779ms/step - loss: 0.4119 - accuracy: 0.8227 - val_loss: 0.4324 - val_accuracy: 0.8030\n",
      "Epoch 56/100\n",
      "20/20 [==============================] - 16s 781ms/step - loss: 0.4200 - accuracy: 0.8097 - val_loss: 0.4619 - val_accuracy: 0.7860\n",
      "Epoch 57/100\n",
      "20/20 [==============================] - 16s 795ms/step - loss: 0.3743 - accuracy: 0.8341 - val_loss: 0.4499 - val_accuracy: 0.8000\n",
      "Epoch 58/100\n",
      "20/20 [==============================] - 16s 796ms/step - loss: 0.3970 - accuracy: 0.8156 - val_loss: 0.4192 - val_accuracy: 0.8080\n",
      "Epoch 59/100\n",
      "20/20 [==============================] - 16s 793ms/step - loss: 0.4297 - accuracy: 0.8037 - val_loss: 0.4283 - val_accuracy: 0.8070\n",
      "Epoch 60/100\n",
      "20/20 [==============================] - 16s 781ms/step - loss: 0.3891 - accuracy: 0.8275 - val_loss: 0.4249 - val_accuracy: 0.8020\n",
      "Epoch 61/100\n",
      "20/20 [==============================] - 16s 783ms/step - loss: 0.3812 - accuracy: 0.8355 - val_loss: 0.4204 - val_accuracy: 0.8070\n",
      "Epoch 62/100\n",
      "20/20 [==============================] - 15s 775ms/step - loss: 0.3945 - accuracy: 0.8172 - val_loss: 0.4092 - val_accuracy: 0.8160\n",
      "Epoch 63/100\n",
      "20/20 [==============================] - 15s 771ms/step - loss: 0.3898 - accuracy: 0.8320 - val_loss: 0.4047 - val_accuracy: 0.8110\n",
      "Epoch 64/100\n",
      "20/20 [==============================] - 15s 776ms/step - loss: 0.4023 - accuracy: 0.8076 - val_loss: 0.3827 - val_accuracy: 0.8200\n",
      "Epoch 65/100\n",
      "20/20 [==============================] - 15s 776ms/step - loss: 0.3699 - accuracy: 0.8262 - val_loss: 0.4327 - val_accuracy: 0.8110\n",
      "Epoch 66/100\n",
      "20/20 [==============================] - 16s 781ms/step - loss: 0.3687 - accuracy: 0.8326 - val_loss: 0.4047 - val_accuracy: 0.8200\n",
      "Epoch 67/100\n",
      "20/20 [==============================] - 15s 772ms/step - loss: 0.3518 - accuracy: 0.8380 - val_loss: 0.4025 - val_accuracy: 0.8040\n",
      "Epoch 68/100\n",
      "20/20 [==============================] - 15s 779ms/step - loss: 0.3435 - accuracy: 0.8550 - val_loss: 0.5124 - val_accuracy: 0.7830\n",
      "Epoch 69/100\n",
      "20/20 [==============================] - 15s 774ms/step - loss: 0.3486 - accuracy: 0.8339 - val_loss: 0.3918 - val_accuracy: 0.8210\n",
      "Epoch 70/100\n",
      "20/20 [==============================] - 15s 775ms/step - loss: 0.3670 - accuracy: 0.8369 - val_loss: 0.4837 - val_accuracy: 0.8070\n",
      "Epoch 71/100\n",
      "20/20 [==============================] - 15s 779ms/step - loss: 0.3580 - accuracy: 0.8350 - val_loss: 0.3806 - val_accuracy: 0.8140\n",
      "Epoch 72/100\n",
      "20/20 [==============================] - 16s 785ms/step - loss: 0.3496 - accuracy: 0.8382 - val_loss: 0.4626 - val_accuracy: 0.7960\n",
      "Epoch 73/100\n",
      "20/20 [==============================] - 16s 781ms/step - loss: 0.3517 - accuracy: 0.8556 - val_loss: 0.4048 - val_accuracy: 0.8060\n",
      "Epoch 74/100\n",
      "20/20 [==============================] - 15s 779ms/step - loss: 0.3699 - accuracy: 0.8352 - val_loss: 0.3820 - val_accuracy: 0.8280\n",
      "Epoch 75/100\n",
      "20/20 [==============================] - 15s 780ms/step - loss: 0.3254 - accuracy: 0.8607 - val_loss: 0.3735 - val_accuracy: 0.8220\n",
      "Epoch 76/100\n",
      "20/20 [==============================] - 15s 773ms/step - loss: 0.3467 - accuracy: 0.8462 - val_loss: 0.3961 - val_accuracy: 0.8270\n",
      "Epoch 77/100\n",
      "20/20 [==============================] - 16s 779ms/step - loss: 0.3151 - accuracy: 0.8607 - val_loss: 0.4373 - val_accuracy: 0.8110\n",
      "Epoch 78/100\n",
      "20/20 [==============================] - 16s 801ms/step - loss: 0.3380 - accuracy: 0.8447 - val_loss: 0.3997 - val_accuracy: 0.8190\n",
      "Epoch 79/100\n",
      "20/20 [==============================] - 15s 775ms/step - loss: 0.3273 - accuracy: 0.8485 - val_loss: 0.4894 - val_accuracy: 0.7930\n",
      "Epoch 80/100\n",
      "20/20 [==============================] - 15s 767ms/step - loss: 0.3275 - accuracy: 0.8522 - val_loss: 0.3924 - val_accuracy: 0.8210\n",
      "Epoch 81/100\n",
      "20/20 [==============================] - 15s 773ms/step - loss: 0.3429 - accuracy: 0.8542 - val_loss: 0.4405 - val_accuracy: 0.8090\n",
      "Epoch 82/100\n",
      "20/20 [==============================] - 15s 776ms/step - loss: 0.3245 - accuracy: 0.8623 - val_loss: 0.3649 - val_accuracy: 0.8300\n",
      "Epoch 83/100\n",
      "20/20 [==============================] - 15s 771ms/step - loss: 0.3319 - accuracy: 0.8489 - val_loss: 0.3815 - val_accuracy: 0.8320\n",
      "Epoch 84/100\n",
      "20/20 [==============================] - 15s 774ms/step - loss: 0.3579 - accuracy: 0.8394 - val_loss: 0.3838 - val_accuracy: 0.8190\n",
      "Epoch 85/100\n",
      "20/20 [==============================] - 16s 790ms/step - loss: 0.3022 - accuracy: 0.8585 - val_loss: 0.4503 - val_accuracy: 0.8130\n",
      "Epoch 86/100\n",
      "20/20 [==============================] - 16s 785ms/step - loss: 0.3055 - accuracy: 0.8680 - val_loss: 0.3935 - val_accuracy: 0.8210\n",
      "Epoch 87/100\n",
      "20/20 [==============================] - 16s 784ms/step - loss: 0.3177 - accuracy: 0.8583 - val_loss: 0.3859 - val_accuracy: 0.8300\n",
      "Epoch 88/100\n",
      "20/20 [==============================] - 16s 789ms/step - loss: 0.3305 - accuracy: 0.8424 - val_loss: 0.3587 - val_accuracy: 0.8480\n",
      "Epoch 89/100\n",
      "20/20 [==============================] - 16s 792ms/step - loss: 0.2851 - accuracy: 0.8774 - val_loss: 0.3725 - val_accuracy: 0.8330\n",
      "Epoch 90/100\n",
      "20/20 [==============================] - 16s 780ms/step - loss: 0.2830 - accuracy: 0.8680 - val_loss: 0.4137 - val_accuracy: 0.8200\n",
      "Epoch 91/100\n",
      "20/20 [==============================] - 15s 780ms/step - loss: 0.2819 - accuracy: 0.8821 - val_loss: 0.3621 - val_accuracy: 0.8430\n",
      "Epoch 92/100\n",
      "20/20 [==============================] - 16s 785ms/step - loss: 0.2796 - accuracy: 0.8894 - val_loss: 0.3854 - val_accuracy: 0.8200\n",
      "Epoch 93/100\n",
      "20/20 [==============================] - 15s 774ms/step - loss: 0.2660 - accuracy: 0.8896 - val_loss: 0.3860 - val_accuracy: 0.8350\n",
      "Epoch 94/100\n",
      "20/20 [==============================] - 15s 776ms/step - loss: 0.2613 - accuracy: 0.8871 - val_loss: 0.4180 - val_accuracy: 0.8220\n",
      "Epoch 95/100\n",
      "20/20 [==============================] - 15s 779ms/step - loss: 0.2789 - accuracy: 0.8813 - val_loss: 0.3514 - val_accuracy: 0.8500\n",
      "Epoch 96/100\n",
      "20/20 [==============================] - 15s 774ms/step - loss: 0.2798 - accuracy: 0.8752 - val_loss: 0.3747 - val_accuracy: 0.8350\n",
      "Epoch 97/100\n",
      "20/20 [==============================] - 16s 786ms/step - loss: 0.2745 - accuracy: 0.8862 - val_loss: 0.4100 - val_accuracy: 0.8200\n",
      "Epoch 98/100\n",
      "20/20 [==============================] - 16s 792ms/step - loss: 0.2786 - accuracy: 0.8799 - val_loss: 0.4100 - val_accuracy: 0.8260\n",
      "Epoch 99/100\n",
      "20/20 [==============================] - 15s 776ms/step - loss: 0.3256 - accuracy: 0.8601 - val_loss: 0.3696 - val_accuracy: 0.8320\n",
      "Epoch 100/100\n",
      "20/20 [==============================] - 15s 779ms/step - loss: 0.3041 - accuracy: 0.8592 - val_loss: 0.4057 - val_accuracy: 0.8290\n"
     ]
    }
   ],
   "source": [
    "epochs=100\n",
    "history = classifier.fit_generator(\n",
    "    training_set,\n",
    "    steps_per_epoch=int(np.ceil(total_train / float(BATCH_SIZE))),\n",
    "    epochs=epochs,\n",
    "    validation_data=validation_set,\n",
    "    validation_steps=int(np.ceil(total_val / float(BATCH_SIZE)))\n",
    ")"
   ]
  },
  {
   "cell_type": "markdown",
   "metadata": {
    "id": "ZZoIM8r5b_ap"
   },
   "source": [
    "# Training Result Visualization"
   ]
  },
  {
   "cell_type": "code",
   "execution_count": null,
   "metadata": {
    "id": "b-agtVURcEjo"
   },
   "outputs": [],
   "source": [
    "acc = history.history['acc']\n",
    "val_acc = history.history['val_acc']\n",
    "\n",
    "loss = history.history['loss']\n",
    "val_loss = history.history['val_loss']\n",
    "\n",
    "epochs_range = range(epochs)\n",
    "\n",
    "plt.figure(figsize=(8, 8))\n",
    "plt.subplot(1, 2, 1)\n",
    "plt.plot(epochs_range, acc, label='Training Accuracy')\n",
    "plt.plot(epochs_range, val_acc, label='Validation Accuracy')\n",
    "plt.legend(loc='lower right')\n",
    "plt.title('Training and Validation Accuracy')\n",
    "\n",
    "plt.subplot(1, 2, 2)\n",
    "plt.plot(epochs_range, loss, label='Training Loss')\n",
    "plt.plot(epochs_range, val_loss, label='Validation Loss')\n",
    "plt.legend(loc='upper right')\n",
    "plt.title('Training and Validation Loss')\n",
    "plt.show()"
   ]
  },
  {
   "cell_type": "code",
   "execution_count": null,
   "metadata": {
    "id": "mH-tKR88b-RI"
   },
   "outputs": [],
   "source": []
  }
 ],
 "metadata": {
  "accelerator": "GPU",
  "colab": {
   "collapsed_sections": [],
   "name": "Convolutional_Neural_Networks.ipynb",
   "provenance": []
  },
  "kernelspec": {
   "display_name": "Python 3",
   "language": "python",
   "name": "python3"
  },
  "language_info": {
   "codemirror_mode": {
    "name": "ipython",
    "version": 3
   },
   "file_extension": ".py",
   "mimetype": "text/x-python",
   "name": "python",
   "nbconvert_exporter": "python",
   "pygments_lexer": "ipython3",
   "version": "3.8.5"
  }
 },
 "nbformat": 4,
 "nbformat_minor": 1
}
